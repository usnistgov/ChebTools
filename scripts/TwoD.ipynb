{
 "cells": [
  {
   "cell_type": "code",
   "execution_count": null,
   "metadata": {},
   "outputs": [],
   "source": [
    "import timeit\n",
    "\n",
    "import numpy as np\n",
    "import ChebTools\n",
    "import matplotlib.pyplot as plt\n",
    "import pandas"
   ]
  },
  {
   "cell_type": "code",
   "execution_count": null,
   "metadata": {},
   "outputs": [],
   "source": [
    "# https://www.chebfun.org/examples/approx2/PrettyFunctions.html\n",
    "f = lambda x, y: np.cos(10*(x*x+y))*np.sin(10*(x+y*y))"
   ]
  },
  {
   "cell_type": "code",
   "execution_count": null,
   "metadata": {},
   "outputs": [],
   "source": [
    "# Time construction of expansions of given NxN size \n",
    "o = []\n",
    "for N in range(1,20):\n",
    "    tic = timeit.default_timer()\n",
    "    b = ChebTools.ChebyshevExpansion2DBounds()\n",
    "    ce = ChebTools.generate_Chebyshev_expansion2D(f, [N, N], b)\n",
    "    toc = timeit.default_timer()\n",
    "    elap = toc-tic\n",
    "    o.append({'N': N, 'elap': elap})\n",
    "df = pandas.DataFrame(o)\n",
    "plt.plot(df.N, df.elap, 'o-')\n",
    "plt.yscale('log')\n",
    "plt.xlabel('N')\n",
    "plt.ylabel('time')\n",
    "plt.show()"
   ]
  },
  {
   "cell_type": "code",
   "execution_count": null,
   "metadata": {
    "scrolled": true
   },
   "outputs": [],
   "source": [
    "b = ChebTools.ChebyshevExpansion2DBounds()\n",
    "for w in [1, 1/2, 1/4, 1/8, 1/16, 1/32, 1/64]:\n",
    "\n",
    "    b.xmin = -w\n",
    "    b.xmax = w\n",
    "    b.ymin = -w\n",
    "    b.ymax = w\n",
    "\n",
    "    ce = ChebTools.generate_Chebyshev_expansion2D(f, [8, 8], b)\n",
    "\n",
    "    o = []\n",
    "    for x_ in np.linspace(-w, w, 100):\n",
    "        for y_ in np.linspace(-w, w, 100):\n",
    "            val = f(x_, y_)\n",
    "            err = ce.eval_Clenshaw(x_, y_) - val\n",
    "            o.append({'x': x_, 'y': y_, 'val': val, 'err': err})\n",
    "    df = pandas.DataFrame(o)\n",
    "\n",
    "    print(w)\n",
    "    fig, (ax1, ax2) = plt.subplots(1, 2, figsize=(10,5))\n",
    "\n",
    "    sc = ax1.scatter(df.x, df.y, c=df.val, marker='s', s=4)\n",
    "    plt.sca(ax1)\n",
    "    cb = plt.colorbar(sc)\n",
    "    cb.set_label('val')\n",
    "\n",
    "    sc = ax2.scatter(df.x, df.y, c=df.err, s=1)\n",
    "    plt.sca(ax2)\n",
    "    cb = plt.colorbar(sc)\n",
    "    cb.set_label('error')\n",
    "\n",
    "    plt.tight_layout(pad=0.2)\n",
    "    plt.show()"
   ]
  },
  {
   "cell_type": "code",
   "execution_count": null,
   "metadata": {
    "scrolled": false
   },
   "outputs": [],
   "source": [
    "b = ChebTools.ChebyshevExpansion2DBounds()\n",
    "for xmin in [-1, -0.5, 0, 0.5, 0.75, 0.9, 0.95]:\n",
    "\n",
    "    b.xmin = xmin\n",
    "    b.xmax = 1\n",
    "    b.ymin = xmin\n",
    "    b.ymax = 1\n",
    "\n",
    "    ce = ChebTools.generate_Chebyshev_expansion2D(f, [8, 8], b)\n",
    "\n",
    "    o = []\n",
    "    for x_ in np.linspace(b.xmin, b.xmax, 100):\n",
    "        for y_ in np.linspace(b.xmin, b.ymax, 100):\n",
    "            val = f(x_, y_)\n",
    "            err = ce.eval_Clenshaw(x_, y_) - val\n",
    "            o.append({'x': x_, 'y': y_, 'val': val, 'err': err})\n",
    "    df = pandas.DataFrame(o)\n",
    "\n",
    "    \n",
    "    fig, (ax1, ax2) = plt.subplots(1, 2, figsize=(10,5))\n",
    "\n",
    "    sc = ax1.scatter(df.x, df.y, c=df.val, marker='s', s=4)\n",
    "    plt.sca(ax1)\n",
    "    cb = plt.colorbar(sc)\n",
    "    cb.set_label('val')\n",
    "\n",
    "    sc = ax2.scatter(df.x, df.y, c=df.err, s=1)\n",
    "    plt.sca(ax2)\n",
    "    cb = plt.colorbar(sc)\n",
    "    cb.set_label('error')\n",
    "\n",
    "    plt.tight_layout(pad=0.2)\n",
    "    plt.show()"
   ]
  },
  {
   "cell_type": "code",
   "execution_count": null,
   "metadata": {},
   "outputs": [],
   "source": [
    "def tiled_domain(f, *, ob, Nx, Ny):\n",
    "    \"\"\"\n",
    "    ob: overall bounds\n",
    "    \"\"\"\n",
    "    xs = np.linspace(ob.xmin, ob.xmax, Nx+1)\n",
    "    ys = np.linspace(ob.ymin, ob.ymax, Ny+1)\n",
    "    ohs = []\n",
    "    for i in range(len(xs)-1):\n",
    "        for j in range(len(ys)-1):\n",
    "            \n",
    "            # One domain\n",
    "            b = ChebTools.ChebyshevExpansion2DBounds()\n",
    "            b.xmin = xs[i]\n",
    "            b.xmax = xs[i+1]\n",
    "            b.ymin = ys[j]\n",
    "            b.ymax = ys[j+1]\n",
    "            ce = ChebTools.generate_Chebyshev_expansion2D(f, [10, 10], b)\n",
    "            o = []\n",
    "            for x_ in np.linspace(b.xmin, b.xmax, 20):\n",
    "                for y_ in np.linspace(b.ymin, b.ymax, 20):\n",
    "                    val = f(x_, y_)\n",
    "                    err = ce.eval_Clenshaw(x_, y_) - val\n",
    "                    o.append({'x': x_, 'y': y_, 'val': val, 'err': err})\n",
    "                    \n",
    "            # Store the results\n",
    "            ohs += o\n",
    "            \n",
    "    # Join all the results together\n",
    "    df = pandas.DataFrame(ohs)\n",
    "\n",
    "    fig, (ax1, ax2) = plt.subplots(1, 2, figsize=(10,5))\n",
    "\n",
    "    sc = ax1.scatter(df.x, df.y, c=df.val, marker='s', s=4)\n",
    "    plt.sca(ax1)\n",
    "    cb = plt.colorbar(sc)\n",
    "    cb.set_label('val')\n",
    "\n",
    "    sc = ax2.scatter(df.x, df.y, c=df.err, s=1)\n",
    "    plt.sca(ax2)\n",
    "    cb = plt.colorbar(sc)\n",
    "    cb.set_label('error')\n",
    "\n",
    "    for i in range(len(xs)):\n",
    "        for j in range(len(ys)):\n",
    "            plt.plot(xs[i], ys[j], 'ro')\n",
    "    \n",
    "    byt = Nx*Ny*8*11*11/1024/1024\n",
    "    plt.suptitle(f'{Nx} x {Ny}; {byt} MB')\n",
    "\n",
    "    plt.tight_layout(pad=0.2)\n",
    "    plt.show()\n",
    "    "
   ]
  },
  {
   "cell_type": "code",
   "execution_count": null,
   "metadata": {
    "scrolled": false
   },
   "outputs": [],
   "source": [
    "for p in range(1, 7, 1):\n",
    "    N = 2**p\n",
    "    tiled_domain(f, ob=ChebTools.ChebyshevExpansion2DBounds(), Nx=N, Ny=N)"
   ]
  },
  {
   "cell_type": "code",
   "execution_count": null,
   "metadata": {},
   "outputs": [],
   "source": [
    "for p in range(1, 7, 1):\n",
    "    N = 2**p\n",
    "    tiled_domain(lambda x,y: np.cos(10*(x))*np.sin(10*(y)), ob=ChebTools.ChebyshevExpansion2DBounds(), Nx=N, Ny=N)"
   ]
  },
  {
   "cell_type": "code",
   "execution_count": null,
   "metadata": {},
   "outputs": [],
   "source": []
  }
 ],
 "metadata": {
  "kernelspec": {
   "display_name": "Python 3 (ipykernel)",
   "language": "python",
   "name": "python3"
  },
  "language_info": {
   "codemirror_mode": {
    "name": "ipython",
    "version": 3
   },
   "file_extension": ".py",
   "mimetype": "text/x-python",
   "name": "python",
   "nbconvert_exporter": "python",
   "pygments_lexer": "ipython3",
   "version": "3.10.6"
  }
 },
 "nbformat": 4,
 "nbformat_minor": 4
}
